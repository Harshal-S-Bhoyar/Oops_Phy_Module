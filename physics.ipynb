{
 "cells": [
  {
   "cell_type": "code",
   "execution_count": 32,
   "id": "f512ca23-eab2-45e8-b862-540b24b31210",
   "metadata": {},
   "outputs": [],
   "source": [
    "class Physics:\n",
    "    def K_Energy(mass,velocity):\n",
    "        ke = (0.5 * mass * velocity * velocity)\n",
    "        print(\"Kinetic Energy is\",ke)\n",
    "    def P_Energy(Mass,Gravity,Height):\n",
    "        pe =  Mass * Gravity * Height\n",
    "        print(\"Potential Energy is\",pe)\n",
    "    def M_Energy(Potential,Kinetic):\n",
    "        em = Potential + Kinetic\n",
    "        print(\"Mechanical Energy is \",em)\n",
    "    def speed(Distance,Time):\n",
    "        s = Distance / Time\n",
    "        print(\"Speed is\",s)\n",
    "    def velocity(Displacement,Time):\n",
    "        v = Displacement / Time\n",
    "        print(\"velocity is \",v)\n",
    "    def acceleration(Final_Velocity,Initial_Velocity,Time):\n",
    "        a =  (Final_Velocity - Initial_Velocity) / Time\n",
    "        print(\"acceleration is\",a)"
   ]
  },
  {
   "cell_type": "code",
   "execution_count": null,
   "id": "3bd0dfa7-b952-415f-9cbb-e02823bb8f29",
   "metadata": {},
   "outputs": [],
   "source": []
  }
 ],
 "metadata": {
  "kernelspec": {
   "display_name": "Python 3 (ipykernel)",
   "language": "python",
   "name": "python3"
  },
  "language_info": {
   "codemirror_mode": {
    "name": "ipython",
    "version": 3
   },
   "file_extension": ".py",
   "mimetype": "text/x-python",
   "name": "python",
   "nbconvert_exporter": "python",
   "pygments_lexer": "ipython3",
   "version": "3.12.4"
  }
 },
 "nbformat": 4,
 "nbformat_minor": 5
}
